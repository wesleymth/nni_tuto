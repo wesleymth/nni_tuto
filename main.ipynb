{
  "cells": [
    {
      "cell_type": "code",
      "execution_count": 1,
      "metadata": {
        "collapsed": false
      },
      "outputs": [],
      "source": [
        "%matplotlib inline"
      ]
    },
    {
      "cell_type": "markdown",
      "metadata": {},
      "source": [
        "\n",
        "# HPO Quickstart with PyTorch\n",
        "This tutorial optimizes the model in `official PyTorch quickstart`_ with auto-tuning.\n",
        "\n",
        "The tutorial consists of 4 steps: \n",
        "\n",
        "1. Modify the model for auto-tuning.\n",
        "2. Define hyperparameters' search space.\n",
        "3. Configure the experiment.\n",
        "4. Run the experiment.\n",
        "\n"
      ]
    },
    {
      "cell_type": "markdown",
      "metadata": {},
      "source": [
        "## Step 1: Prepare the model\n",
        "In first step, we need to prepare the model to be tuned.\n",
        "\n",
        "The model should be put in a separate script.\n",
        "It will be evaluated many times concurrently,\n",
        "and possibly will be trained on distributed platforms.\n",
        "\n",
        "In this tutorial, the model is defined in :doc:`model.py <model>`.\n",
        "\n",
        "In short, it is a PyTorch model with 3 additional API calls:\n",
        "\n",
        "1. Use :func:`nni.get_next_parameter` to fetch the hyperparameters to be evalutated.\n",
        "2. Use :func:`nni.report_intermediate_result` to report per-epoch accuracy metrics.\n",
        "3. Use :func:`nni.report_final_result` to report final accuracy.\n",
        "\n",
        "Please understand the model code before continue to next step.\n",
        "\n"
      ]
    },
    {
      "cell_type": "markdown",
      "metadata": {},
      "source": [
        "## Step 2: Define search space\n",
        "In model code, we have prepared 3 hyperparameters to be tuned:\n",
        "*features*, *lr*, and *momentum*.\n",
        "\n",
        "Here we need to define their *search space* so the tuning algorithm can sample them in desired range.\n",
        "\n",
        "Assuming we have following prior knowledge for these hyperparameters:\n",
        "\n",
        "1. *features* should be one of 128, 256, 512, 1024.\n",
        "2. *lr* should be a float between 0.0001 and 0.1, and it follows exponential distribution.\n",
        "3. *momentum* should be a float between 0 and 1.\n",
        "\n",
        "In NNI, the space of *features* is called ``choice``;\n",
        "the space of *lr* is called ``loguniform``;\n",
        "and the space of *momentum* is called ``uniform``.\n",
        "You may have noticed, these names are derived from ``numpy.random``.\n",
        "\n",
        "For full specification of search space, check :doc:`the reference </hpo/search_space>`.\n",
        "\n",
        "Now we can define the search space as follow:\n",
        "\n"
      ]
    },
    {
      "cell_type": "code",
      "execution_count": 2,
      "metadata": {
        "collapsed": false
      },
      "outputs": [],
      "source": [
        "search_space = {\n",
        "    'features': {'_type': 'choice', '_value': [128, 256, 512, 1024]},\n",
        "    'lr': {'_type': 'loguniform', '_value': [0.0001, 0.1]},\n",
        "    'momentum': {'_type': 'uniform', '_value': [0, 1]},\n",
        "}"
      ]
    },
    {
      "cell_type": "markdown",
      "metadata": {},
      "source": [
        "## Step 3: Configure the experiment\n",
        "NNI uses an *experiment* to manage the HPO process.\n",
        "The *experiment config* defines how to train the models and how to explore the search space.\n",
        "\n",
        "In this tutorial we use a *local* mode experiment,\n",
        "which means models will be trained on local machine, without using any special training platform.\n",
        "\n"
      ]
    },
    {
      "cell_type": "code",
      "execution_count": 3,
      "metadata": {
        "collapsed": false
      },
      "outputs": [],
      "source": [
        "from nni.experiment import Experiment\n",
        "experiment = Experiment('local')"
      ]
    },
    {
      "cell_type": "markdown",
      "metadata": {},
      "source": [
        "Now we start to configure the experiment.\n",
        "\n",
        "### Configure trial code\n",
        "In NNI evaluation of each hyperparameter set is called a *trial*.\n",
        "So the model script is called *trial code*.\n",
        "\n"
      ]
    },
    {
      "cell_type": "code",
      "execution_count": 4,
      "metadata": {
        "collapsed": false
      },
      "outputs": [],
      "source": [
        "experiment.config.trial_command = 'python model.py'\n",
        "experiment.config.trial_code_directory = '.'"
      ]
    },
    {
      "cell_type": "markdown",
      "metadata": {},
      "source": [
        "When ``trial_code_directory`` is a relative path, it relates to current working directory.\n",
        "To run ``main.py`` in a different path, you can set trial code directory to ``Path(__file__).parent``.\n",
        "(`__file__ <https://docs.python.org/3.10/reference/datamodel.html#index-43>`__\n",
        "is only available in standard Python, not in Jupyter Notebook.)\n",
        "\n",
        ".. attention::\n",
        "\n",
        "    If you are using Linux system without Conda,\n",
        "    you may need to change ``\"python model.py\"`` to ``\"python3 model.py\"``.\n",
        "\n"
      ]
    },
    {
      "cell_type": "markdown",
      "metadata": {},
      "source": [
        "### Configure search space\n",
        "\n"
      ]
    },
    {
      "cell_type": "code",
      "execution_count": 5,
      "metadata": {
        "collapsed": false
      },
      "outputs": [],
      "source": [
        "experiment.config.search_space = search_space"
      ]
    },
    {
      "cell_type": "markdown",
      "metadata": {},
      "source": [
        "### Configure tuning algorithm\n",
        "Here we use :doc:`TPE tuner </hpo/tuners>`.\n",
        "\n"
      ]
    },
    {
      "cell_type": "code",
      "execution_count": 6,
      "metadata": {
        "collapsed": false
      },
      "outputs": [],
      "source": [
        "experiment.config.tuner.name = 'TPE'\n",
        "experiment.config.tuner.class_args['optimize_mode'] = 'maximize'"
      ]
    },
    {
      "cell_type": "markdown",
      "metadata": {},
      "source": [
        "### Configure how many trials to run\n",
        "Here we evaluate 10 sets of hyperparameters in total, and concurrently evaluate 2 sets at a time.\n",
        "\n"
      ]
    },
    {
      "cell_type": "code",
      "execution_count": 7,
      "metadata": {
        "collapsed": false
      },
      "outputs": [],
      "source": [
        "experiment.config.max_trial_number = 10\n",
        "experiment.config.trial_concurrency = 2"
      ]
    },
    {
      "cell_type": "markdown",
      "metadata": {},
      "source": [
        "You may also set ``max_experiment_duration = '1h'`` to limit running time.\n",
        "\n",
        "If neither ``max_trial_number`` nor ``max_experiment_duration`` are set,\n",
        "the experiment will run forever until you press Ctrl-C.\n",
        "\n",
        "<div class=\"alert alert-info\"><h4>Note</h4><p>``max_trial_number`` is set to 10 here for a fast example.\n",
        "    In real world it should be set to a larger number.\n",
        "    With default config TPE tuner requires 20 trials to warm up.</p></div>\n",
        "\n"
      ]
    },
    {
      "cell_type": "markdown",
      "metadata": {},
      "source": [
        "## Step 4: Run the experiment\n",
        "Now the experiment is ready. Choose a port and launch it. (Here we use port 8080.)\n",
        "\n",
        "You can use the web portal to view experiment status: http://localhost:8080.\n",
        "\n"
      ]
    },
    {
      "cell_type": "code",
      "execution_count": 8,
      "metadata": {
        "collapsed": false
      },
      "outputs": [
        {
          "name": "stdout",
          "output_type": "stream",
          "text": [
            "[2023-03-24 11:35:27] \u001b[32mCreating experiment, Experiment ID: \u001b[36mbxdq20ms\u001b[0m\n",
            "[2023-03-24 11:35:27] \u001b[32mStarting web server...\u001b[0m\n",
            "[2023-03-24 11:35:28] \u001b[33mWARNING: Timeout, retry...\u001b[0m\n",
            "[2023-03-24 11:35:29] \u001b[32mSetting up...\u001b[0m\n",
            "[2023-03-24 11:35:29] \u001b[32mWeb portal URLs: \u001b[36mhttp://127.0.0.1:8080 http://128.179.204.127:8080\u001b[0m\n"
          ]
        }
      ],
      "source": [
        "experiment.run(8080)"
      ]
    },
    {
      "cell_type": "markdown",
      "metadata": {},
      "source": [
        "## After the experiment is done\n",
        "Everything is done and it is safe to exit now. The following are optional.\n",
        "\n",
        "If you are using standard Python instead of Jupyter Notebook,\n",
        "you can add ``input()`` or ``signal.pause()`` to prevent Python from exiting,\n",
        "allowing you to view the web portal after the experiment is done.\n",
        "\n"
      ]
    },
    {
      "cell_type": "code",
      "execution_count": 9,
      "metadata": {
        "collapsed": false
      },
      "outputs": [
        {
          "name": "stdout",
          "output_type": "stream",
          "text": [
            "[2023-03-24 11:44:39] \u001b[32mStopping experiment, please wait...\u001b[0m\n",
            "[2023-03-24 11:44:39] \u001b[32mExperiment stopped\u001b[0m\n"
          ]
        }
      ],
      "source": [
        "# input('Press enter to quit')\n",
        "experiment.stop()"
      ]
    },
    {
      "cell_type": "markdown",
      "metadata": {},
      "source": [
        ":meth:`nni.experiment.Experiment.stop` is automatically invoked when Python exits,\n",
        "so it can be omitted in your code.\n",
        "\n",
        "After the experiment is stopped, you can run :meth:`nni.experiment.Experiment.view` to restart web portal.\n",
        "\n",
        ".. tip::\n",
        "\n",
        "    This example uses :doc:`Python API </reference/experiment>` to create experiment.\n",
        "\n",
        "    You can also create and manage experiments with :doc:`command line tool <../hpo_nnictl/nnictl>`.\n",
        "\n"
      ]
    }
  ],
  "metadata": {
    "kernelspec": {
      "display_name": "Python 3",
      "language": "python",
      "name": "python3"
    },
    "language_info": {
      "codemirror_mode": {
        "name": "ipython",
        "version": 3
      },
      "file_extension": ".py",
      "mimetype": "text/x-python",
      "name": "python",
      "nbconvert_exporter": "python",
      "pygments_lexer": "ipython3",
      "version": "3.8.13"
    }
  },
  "nbformat": 4,
  "nbformat_minor": 0
}
